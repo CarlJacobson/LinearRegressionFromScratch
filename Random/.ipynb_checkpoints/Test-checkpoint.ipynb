{
 "cells": [
  {
   "cell_type": "code",
   "execution_count": 1,
   "metadata": {},
   "outputs": [],
   "source": [
    "import numpy as np\n",
    "import matplotlib.pyplot as plt\n",
    "import pandas as pd"
   ]
  },
  {
   "cell_type": "code",
   "execution_count": 17,
   "metadata": {},
   "outputs": [],
   "source": [
    "class random_line_maker:\n",
    "    def __init__(self,slope=1,intercept=0,variance=1,points=10):\n",
    "        self.slope = slope\n",
    "        self.intercept = intercept\n",
    "        self.variance = variance\n",
    "        self.points = points\n",
    "        self.x = self.__return_x(self.intercept,self.variance,self.slope,self.points)\n",
    "        self.y = self.__return_y(self.x,self.intercept,self.variance,self.slope,self.points)\n",
    "        \n",
    "    def __return_x(self,intercept,variance,slope,points):\n",
    "        x = np.arange(start=0,stop=points)\n",
    "        return x\n",
    "    \n",
    "    def __return_y(self,x,intercept,variance,slope,points):\n",
    "        def __residuals(variance=variance):\n",
    "            return [np.random.normal(scale=variance**2,loc=0) for i in range(points)] \n",
    "        def f(x,intercept,slope):\n",
    "            return slope*x+intercept\n",
    "        y = f(x,intercept,slope)\n",
    "        y_with_variance = y + __residuals()\n",
    "        return y_with_variance\n",
    "    \n",
    "    def plot(self):\n",
    "        return plt.scatter(self.x,self.y)     "
   ]
  },
  {
   "cell_type": "code",
   "execution_count": 64,
   "metadata": {},
   "outputs": [],
   "source": [
    "def test(x:int):\n",
    "    '''docstring'''\n",
    "    print(str(x))"
   ]
  },
  {
   "cell_type": "code",
   "execution_count": 63,
   "metadata": {},
   "outputs": [
    {
     "name": "stdout",
     "output_type": "stream",
     "text": [
      "d\n"
     ]
    }
   ],
   "source": [
    "test('d')"
   ]
  },
  {
   "cell_type": "code",
   "execution_count": 55,
   "metadata": {},
   "outputs": [
    {
     "data": {
      "text/plain": [
       "<matplotlib.collections.PathCollection at 0x1cf7d653a60>"
      ]
     },
     "execution_count": 55,
     "metadata": {},
     "output_type": "execute_result"
    },
    {
     "data": {
      "image/png": "[encoded data removed]",
      "text/plain": [
       "<Figure size 432x288 with 1 Axes>"
      ]
     },
     "metadata": {
      "needs_background": "light"
     },
     "output_type": "display_data"
    }
   ],
   "source": [
    "line = random_line_maker(slope=3,intercept=0,variance=60,points=1000)\n",
    "line.plot()"
   ]
  },
  {
   "cell_type": "code",
   "execution_count": 74,
   "metadata": {},
   "outputs": [],
   "source": [
    "class slr:\n",
    "    def __init__(self,line):\n",
    "        self.x = line.x\n",
    "        self.y = line.y\n",
    "    \n",
    "    def fit(self):\n",
    "        numerator = 0\n",
    "        denominator = 0\n",
    "        x_bar = sum(self.x)/len(self.x)\n",
    "        y_bar = sum(self.y)/len(self.y)\n",
    "        n = len(line.x)\n",
    "        for i in range(n):\n",
    "            xi = self.x[i]\n",
    "            yi = self.y[i]\n",
    "            numerator+=(xi*yi)-(n*x_bar*y_bar)\n",
    "            denominator+=(xi**2)-n*(x_bar**2)\n",
    "\n",
    "        self.beta1_hat=numerator/denominator\n",
    "        self.beta0_hat = y_bar-beta1_hat*x_bar      \n",
    "    \n",
    "    def predict(self,x):\n",
    "        return self.beta0_hat+self.beta1_hat*x\n",
    "        "
   ]
  },
  {
   "cell_type": "code",
   "execution_count": 75,
   "metadata": {},
   "outputs": [],
   "source": [
    "model = slr(line)"
   ]
  },
  {
   "cell_type": "code",
   "execution_count": 76,
   "metadata": {},
   "outputs": [],
   "source": [
    "model.fit()"
   ]
  },
  {
   "cell_type": "code",
   "execution_count": 77,
   "metadata": {},
   "outputs": [
    {
     "data": {
      "text/plain": [
       "14.885816094744289"
      ]
     },
     "execution_count": 77,
     "metadata": {},
     "output_type": "execute_result"
    }
   ],
   "source": [
    "model.predict(5)"
   ]
  },
  {
   "cell_type": "code",
   "execution_count": 57,
   "metadata": {},
   "outputs": [
    {
     "data": {
      "text/plain": [
       "2.977883983079432"
      ]
     },
     "execution_count": 57,
     "metadata": {},
     "output_type": "execute_result"
    }
   ],
   "source": [
    "beta1_hat"
   ]
  },
  {
   "cell_type": "code",
   "execution_count": 58,
   "metadata": {},
   "outputs": [
    {
     "data": {
      "text/plain": [
       "-0.0036038206528701267"
      ]
     },
     "execution_count": 58,
     "metadata": {},
     "output_type": "execute_result"
    }
   ],
   "source": [
    "beta0_hat"
   ]
  },
  {
   "cell_type": "code",
   "execution_count": null,
   "metadata": {},
   "outputs": [],
   "source": []
  }
 ],
 "metadata": {
  "kernelspec": {
   "display_name": "Python 3",
   "language": "python",
   "name": "python3"
  },
  "language_info": {
   "codemirror_mode": {
    "name": "ipython",
    "version": 3
   },
   "file_extension": ".py",
   "mimetype": "text/x-python",
   "name": "python",
   "nbconvert_exporter": "python",
   "pygments_lexer": "ipython3",
   "version": "3.8.3"
  }
 },
 "nbformat": 4,
 "nbformat_minor": 5
}
