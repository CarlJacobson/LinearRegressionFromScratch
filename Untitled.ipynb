{
 "cells": [
  {
   "cell_type": "code",
   "execution_count": 73,
   "id": "c8f55027",
   "metadata": {},
   "outputs": [],
   "source": [
    "import numpy as np\n",
    "import matplotlib.pyplot as plt"
   ]
  },
  {
   "cell_type": "code",
   "execution_count": 63,
   "id": "d9fd6308",
   "metadata": {},
   "outputs": [
    {
     "data": {
      "text/plain": [
       "-1.7540674939557077"
      ]
     },
     "execution_count": 63,
     "metadata": {},
     "output_type": "execute_result"
    }
   ],
   "source": [
    "np.random.normal(scale=1.5,loc=0)"
   ]
  },
  {
   "cell_type": "code",
   "execution_count": 99,
   "id": "df83603c",
   "metadata": {},
   "outputs": [],
   "source": [
    "def random_line_maker(intercept=0,variance=0,slope=1,points=10):\n",
    "    def residual(variance=variance):\n",
    "        return np.random.normal(scale=variance**2,loc=0)\n",
    "    \n",
    "    def f(x,intercept,slope):\n",
    "        return slope*x+intercept+residual(variance)\n",
    "    \n",
    "    x = np.arange(start=1,stop=points)\n",
    "    y = f(x,intercept,slope)\n",
    "    \n",
    "\n",
    "    \n",
    "    return zip(x,y)\n",
    "        \n",
    "    "
   ]
  },
  {
   "cell_type": "code",
   "execution_count": 105,
   "id": "8686d24a",
   "metadata": {},
   "outputs": [],
   "source": [
    "l = random_line_maker(intercept=5,variance=20,slope=5,points=10)"
   ]
  },
  {
   "cell_type": "code",
   "execution_count": 106,
   "id": "73bfc5f4",
   "metadata": {},
   "outputs": [
    {
     "data": {
      "text/plain": [
       "[(1, -363.40688576048603),\n",
       " (2, -358.40688576048603),\n",
       " (3, -353.40688576048603),\n",
       " (4, -348.40688576048603),\n",
       " (5, -343.40688576048603),\n",
       " (6, -338.40688576048603),\n",
       " (7, -333.40688576048603),\n",
       " (8, -328.40688576048603),\n",
       " (9, -323.40688576048603)]"
      ]
     },
     "execution_count": 106,
     "metadata": {},
     "output_type": "execute_result"
    }
   ],
   "source": [
    "list(l)"
   ]
  },
  {
   "cell_type": "code",
   "execution_count": 98,
   "id": "955fe3a2",
   "metadata": {},
   "outputs": [
    {
     "ename": "TypeError",
     "evalue": "scatter() missing 1 required positional argument: 'y'",
     "output_type": "error",
     "traceback": [
      "\u001b[1;31m---------------------------------------------------------------------------\u001b[0m",
      "\u001b[1;31mTypeError\u001b[0m                                 Traceback (most recent call last)",
      "\u001b[1;32m<ipython-input-98-4ff8d4f37855>\u001b[0m in \u001b[0;36m<module>\u001b[1;34m\u001b[0m\n\u001b[1;32m----> 1\u001b[1;33m \u001b[0mplt\u001b[0m\u001b[1;33m.\u001b[0m\u001b[0mscatter\u001b[0m\u001b[1;33m(\u001b[0m\u001b[0mline\u001b[0m\u001b[1;33m)\u001b[0m\u001b[1;33m\u001b[0m\u001b[1;33m\u001b[0m\u001b[0m\n\u001b[0m",
      "\u001b[1;31mTypeError\u001b[0m: scatter() missing 1 required positional argument: 'y'"
     ]
    }
   ],
   "source": [
    "plt.scatter(line)"
   ]
  },
  {
   "cell_type": "code",
   "execution_count": 20,
   "id": "25d82624",
   "metadata": {},
   "outputs": [
    {
     "data": {
      "text/plain": [
       "[1.1093900014033569,\n",
       " 1.3072272826627613,\n",
       " 2.8802092208526653,\n",
       " 3.941804209724516,\n",
       " 5.051708613153441,\n",
       " 7.73375997730083,\n",
       " 7.7297912668724065,\n",
       " 8.645017123805225,\n",
       " 8.218659732430842,\n",
       " 9.550566553536767]"
      ]
     },
     "execution_count": 20,
     "metadata": {},
     "output_type": "execute_result"
    }
   ],
   "source": [
    "x = np.arange(start=1,stop=11)\n",
    "x=list(x)\n",
    "variance =1\n",
    "[xi+np.random.normal(scale=variance**2) for xi in x]"
   ]
  },
  {
   "cell_type": "code",
   "execution_count": 16,
   "id": "3c1d3390",
   "metadata": {},
   "outputs": [
    {
     "data": {
      "text/plain": [
       "[1.0, 2.0, 3.0, 4.0, 5.0, 6.0, 7.0, 8.0, 9.0]"
      ]
     },
     "execution_count": 16,
     "metadata": {},
     "output_type": "execute_result"
    }
   ],
   "source": [
    "random_line_maker(5,0,5)"
   ]
  },
  {
   "cell_type": "code",
   "execution_count": 4,
   "id": "e440bc75",
   "metadata": {},
   "outputs": [],
   "source": [
    "def f(x,intercept,slope):\n",
    "    return slope*x+intercept"
   ]
  },
  {
   "cell_type": "code",
   "execution_count": 12,
   "id": "44369ea6",
   "metadata": {},
   "outputs": [
    {
     "ename": "TypeError",
     "evalue": "can only concatenate list (not \"int\") to list",
     "output_type": "error",
     "traceback": [
      "\u001b[1;31m---------------------------------------------------------------------------\u001b[0m",
      "\u001b[1;31mTypeError\u001b[0m                                 Traceback (most recent call last)",
      "\u001b[1;32m<ipython-input-12-766164973b9f>\u001b[0m in \u001b[0;36m<module>\u001b[1;34m\u001b[0m\n\u001b[1;32m----> 1\u001b[1;33m \u001b[0mf\u001b[0m\u001b[1;33m(\u001b[0m\u001b[1;33m[\u001b[0m\u001b[1;36m1\u001b[0m\u001b[1;33m,\u001b[0m\u001b[1;36m2\u001b[0m\u001b[1;33m,\u001b[0m\u001b[1;36m3\u001b[0m\u001b[1;33m]\u001b[0m\u001b[1;33m,\u001b[0m\u001b[1;36m5\u001b[0m\u001b[1;33m,\u001b[0m\u001b[1;36m5\u001b[0m\u001b[1;33m)\u001b[0m\u001b[1;33m\u001b[0m\u001b[1;33m\u001b[0m\u001b[0m\n\u001b[0m",
      "\u001b[1;32m<ipython-input-4-758fbf94fbee>\u001b[0m in \u001b[0;36mf\u001b[1;34m(x, intercept, slope)\u001b[0m\n\u001b[0;32m      1\u001b[0m \u001b[1;32mdef\u001b[0m \u001b[0mf\u001b[0m\u001b[1;33m(\u001b[0m\u001b[0mx\u001b[0m\u001b[1;33m,\u001b[0m\u001b[0mintercept\u001b[0m\u001b[1;33m,\u001b[0m\u001b[0mslope\u001b[0m\u001b[1;33m)\u001b[0m\u001b[1;33m:\u001b[0m\u001b[1;33m\u001b[0m\u001b[1;33m\u001b[0m\u001b[0m\n\u001b[1;32m----> 2\u001b[1;33m     \u001b[1;32mreturn\u001b[0m \u001b[0mslope\u001b[0m\u001b[1;33m*\u001b[0m\u001b[0mx\u001b[0m\u001b[1;33m+\u001b[0m\u001b[0mintercept\u001b[0m\u001b[1;33m\u001b[0m\u001b[1;33m\u001b[0m\u001b[0m\n\u001b[0m",
      "\u001b[1;31mTypeError\u001b[0m: can only concatenate list (not \"int\") to list"
     ]
    }
   ],
   "source": [
    "f([1,2,3],5,5)"
   ]
  },
  {
   "cell_type": "code",
   "execution_count": 9,
   "id": "f15a8e42",
   "metadata": {},
   "outputs": [
    {
     "data": {
      "text/plain": [
       "array([ 1,  2,  3,  4,  5,  6,  7,  8,  9, 10])"
      ]
     },
     "execution_count": 9,
     "metadata": {},
     "output_type": "execute_result"
    }
   ],
   "source": [
    "np.arange(start=1,stop=11)"
   ]
  },
  {
   "cell_type": "code",
   "execution_count": null,
   "id": "7c2f4f44",
   "metadata": {},
   "outputs": [],
   "source": []
  }
 ],
 "metadata": {
  "kernelspec": {
   "display_name": "Python 3",
   "language": "python",
   "name": "python3"
  },
  "language_info": {
   "codemirror_mode": {
    "name": "ipython",
    "version": 3
   },
   "file_extension": ".py",
   "mimetype": "text/x-python",
   "name": "python",
   "nbconvert_exporter": "python",
   "pygments_lexer": "ipython3",
   "version": "3.8.3"
  }
 },
 "nbformat": 4,
 "nbformat_minor": 5
}
