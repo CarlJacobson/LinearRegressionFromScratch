{
 "cells": [
  {
   "cell_type": "code",
   "execution_count": null,
   "metadata": {},
   "outputs": [],
   "source": [
    "class mlr:\n",
    "        def __init__(self):\n",
    "            self.x = None\n",
    "            self.y = None\n",
    "            self.beta1_hat = None\n",
    "            self.beta0_hat = None\n",
    "            \n",
    "        def formula(self,decimals = 3):\n",
    "            return f\"Y = {round(self.beta0_hat,decimals)} + {round(self.beta1_hat,decimals)} * x\"\n",
    "\n",
    "        def fit(self, line : random_line_maker = None, x = None,y = None):\n",
    "            '''Fits data via OLS simple linear regression'''\n",
    "\n",
    "            if (line == None) and (x == None or y == None):\n",
    "                raise Exception('Input either array like input for x and y or line object as arguments')\n",
    "            elif (line != None) and (x != None or y != None):\n",
    "                print('elif')\n",
    "                self.x = line.x\n",
    "                self.y = line.y\n",
    "            else:\n",
    "                self.x = line.x\n",
    "                self.y = line.y\n",
    "\n",
    "            numerator = 0\n",
    "            denominator = 0\n",
    "            x_bar = sum(self.x)/len(self.x)\n",
    "            y_bar = sum(self.y)/len(self.y)\n",
    "            n = len(self.x)\n",
    "            for i in range(n):\n",
    "                xi = self.x[i]\n",
    "                yi = self.y[i]\n",
    "                numerator+=((yi-y_bar)*(xi-x_bar))\n",
    "                denominator+=((xi-x_bar)**2)\n",
    "            \n",
    "            self.beta1_hat=numerator/denominator\n",
    "            self.beta0_hat = y_bar-(self.beta1_hat*x_bar)    \n",
    "            print(self.formula(decimals = 4))\n",
    "\n",
    "        def predict(self,x):\n",
    "            return self.beta0_hat+self.beta1_hat*x\n",
    "\n",
    "        def plot(self):\n",
    "            fig, ax = plt.subplots()\n",
    "            ax.scatter(self.x, self.y, c='blue')\n",
    "            line = mlines.Line2D(xdata = self.x, ydata = self.predict(np.array(self.x)), color='red')\n",
    "            ax.add_line(line)\n",
    "            return plt"
   ]
  }
 ],
 "metadata": {
  "kernelspec": {
   "display_name": "Python 3",
   "language": "python",
   "name": "python3"
  },
  "language_info": {
   "codemirror_mode": {
    "name": "ipython",
    "version": 3
   },
   "file_extension": ".py",
   "mimetype": "text/x-python",
   "name": "python",
   "nbconvert_exporter": "python",
   "pygments_lexer": "ipython3",
   "version": "3.8.3"
  }
 },
 "nbformat": 4,
 "nbformat_minor": 4
}
